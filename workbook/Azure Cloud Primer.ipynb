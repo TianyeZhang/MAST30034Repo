{
 "cells": [
  {
   "attachments": {},
   "cell_type": "markdown",
   "metadata": {},
   "source": [
    "### Microsoft Azure - Cloud Computing\n",
    "![Azure](https://www.hyve.com/wp-content/uploads/2017/11/microsoft-azure-cloud-1.png)"
   ]
  },
  {
   "cell_type": "markdown",
   "metadata": {},
   "source": [
    "Azure is a Cloud offering (aka product) from Microsoft and serves as a competitor to AWS (Amazon Web Services) and GCP (Google Cloud Platforms)."
   ]
  },
  {
   "cell_type": "markdown",
   "metadata": {},
   "source": [
    "### Why Cloud?\n",
    "- **On-Premise/Local vs Cloud**\n",
    "    - On-Premise/Local is more expensive with upfront costs (i.e RAM, GPU, etc)\n",
    "- **RAM vs CPU vs GPU for VM instances**\n",
    "    - RAM for reading in data directly into memory (pandas dataframes)\n",
    "    - CPU is not entirely important, but you want a decent one in general for parsing data. A good CPU will support mutliprocessing better\n",
    "    - GPU is important for model training / deep learning \n",
    "    - https://docs.microsoft.com/en-us/azure/virtual-machines/windows/sizes\n",
    "- **Industry standards**\n",
    "    - Cloud tech is now the new industry norm for ETL, Databricks, Web Apps, Cloud Computing etc. \n",
    "    - Much more secure (up to certain classification of data), accessible (by your team) and scalable\n",
    "    - Vertically scale up (more resources / compute power / memory capacity). You can think of it as an apartment which needs to accomodate tenants. When more tenants come in, you need to vertically scale your resources.\n",
    "    - Horizontally scale up (multiple servers / clusters). You can think of it as a highway which needs to give access between cities. The more tenants you have = more cars on the highway. Eventually, your two-lane highway might need to expand to 8-lanes in order to remain more efficient\n",
    "- **Automation**\n",
    "    - Cloud offers batch jobs that can be run at scheduled times\n",
    "    - Pipelines can be made to run and deploy code every commit / pull request"
   ]
  },
  {
   "attachments": {},
   "cell_type": "markdown",
   "metadata": {},
   "source": [
    "### General Compute Instances\n",
    "Preview Compute Instances (still in development): https://docs.microsoft.com/en-us/azure/machine-learning/tutorial-1st-experiment-sdk-setup\n",
    "\n",
    "1. Sign up for a free Azure account (once-off free tier with $280): https://azure.microsoft.com/en-us/free/  \n",
    "\n",
    "2. Sign into the Azure Portal: https://portal.azure.com/  \n",
    "\n",
    "3. Go to \"Create a resource\" on the LHS nav bar and search for \"Machine Learning\"  \n",
    "![ml resource](./cloud/ml.PNG)\n",
    "\n",
    "4. Create this resource with the details below  \n",
    "![resource deeets](./cloud/resource.PNG)\n",
    "    - Here, we will be using the \"free tier\" (no cost) plan which serves as a trial for new Azure users\n",
    "    - You will need to create a resource group. This is a way at a high level to \"oversee\" usage of resources by group. I have called it `MAST30034`!\n",
    "    - Workspace name is just the name of your workspace\n",
    "    - Region is set to Australia East (server is hosted locally instead of overseas to reduce latency)  \n",
    "    - Workspace edition is either \"Basic\" or \"Enterprise\". Basic should be sufficient, but you can play around with Enterprise for extra features (at a higher cost)\n",
    "    \n",
    "5. Confirm the \"Review + Create\" and wait for the resource(s) to be deployed.   \n",
    "\n",
    "6. When it is done, select \"Go to resources\" and select \"Compute\"\n",
    "![resource deeets](./cloud/compute.PNG)\n",
    "\n",
    "7. Set up the VM for your cloud. If you know how to SSH via Mac/Linux/WSL, then you can add a public key for access. \n",
    "![resource deeets](./cloud/vm.PNG)\n",
    "    - Note, the resource name must be unique accross all instances (as you can see `test` has been taken).\n",
    "    - Pricing tiers can be viewed here (https://azure.microsoft.com/en-us/pricing/details/machine-learning/) for your VM costs\n",
    "    - **This is where you need to decide if you want more RAM / GPU / Compute power**\n",
    "    \n",
    "8. When it is deployed, you now have access to Jupyter / JupyterLab / RStudio\n",
    "![resource deeets](./cloud/deployed.PNG)\n",
    "    - These work the same way as a local version of IPython / R, but are hosted on the cloud\n",
    "    - Click on the URI of your preferred tool (I still personally prefer Jupyter) and you're done!\n",
    "    \n",
    "9. If you want a more interactive UI to work with, click on the \"Launch the Studio\"\n",
    "![resource deeets](./cloud/launch.PNG)\n",
    "\n",
    "    - Here, you can create pipelines, add versioned models, etc  \n",
    "    \n",
    "    \n",
    "### Extras\n",
    "- You have the option to build clusters. These are essentially resources and configs for data science which are automated as batch jobs. These can be a ETL pipeline which feeds into an ML algorithm  \n",
    "\n",
    "\n",
    "- This comes with a connected Azure Blob Storage, which means you can (up to a certain limit) upload/output files onto the resource directly.  \n",
    "\n",
    "\n",
    "- If you require additional libraries, you will need to install them via terminal. For example (using Jupyter):\n",
    "    1. Create a new terminal\n",
    "    ![resource deeets](./cloud/terminal.PNG)\n",
    "    2. Access the new terminal and pip install as required\n",
    "    ![resource deeets](./cloud/pip.PNG)\n",
    "    3. Double check that you can import them!\n",
    "    ![resource deeets](./cloud/import.PNG)"
   ]
  },
  {
   "cell_type": "markdown",
   "metadata": {},
   "source": [
    "### Data Science Virtual Machines (DSVM)\n",
    "- Tutorial: https://docs.microsoft.com/en-us/azure/machine-learning/how-to-configure-environment#dsvm\n",
    "- Custom variant which comes preinstalled with several needed Data Science libraries / Jupyter Notebook"
   ]
  }
 ],
 "metadata": {
  "kernelspec": {
   "display_name": "Python 3",
   "language": "python",
   "name": "python3"
  },
  "language_info": {
   "codemirror_mode": {
    "name": "ipython",
    "version": 3
   },
   "file_extension": ".py",
   "mimetype": "text/x-python",
   "name": "python",
   "nbconvert_exporter": "python",
   "pygments_lexer": "ipython3",
   "version": "3.7.6"
  }
 },
 "nbformat": 4,
 "nbformat_minor": 4
}
